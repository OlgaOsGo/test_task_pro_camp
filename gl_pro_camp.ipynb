{
 "cells": [
  {
   "cell_type": "code",
   "execution_count": null,
   "metadata": {},
   "outputs": [],
   "source": [
    "\"\"\" \n",
    " Using Programming Language of your choice (Java/Python/Scala), calculate the following metrics for each\n",
    " Country of Origins:\n",
    " 1. Average price of product\n",
    " 2. Share of five-star products\n",
    "\n",
    "SQL Representation\n",
    "     select avg(price), (sum(rating_five_count) / sum(rating_count)) * 100 as five_percentage, origin_country\n",
    "     from summer_productsfive_percentage\n",
    "     group by origin_country\n",
    "     order by origin_country \n",
    "        avg          | five_percentage       | origin_country\n",
    " -------------------------------------------------------\n",
    "  7                  |        null           | AT\n",
    "  8.3418547854785479 | 48.500145666798023628 | CN\n",
    "  9                  | 51.20967741935483871  | GB\n",
    "  3.38               | 42.180365296803652968 | SG\n",
    "  9.3970967741935484 | 49.575954103267647792 | US\n",
    "  8.298              | 47.619047619047619048 | VE\n",
    "  5.5494117647058824 | 36.985876144653111904 | null\n",
    " -------------------------------------------------------\n",
    "  \"\"\""
   ]
  },
  {
   "cell_type": "code",
   "execution_count": 7,
   "metadata": {},
   "outputs": [],
   "source": [
    "import pandas as pd\n",
    "\n",
    "# Given file\n",
    "file_csv = 'test-task_dataset_summer_products.csv'\n",
    "data = pd.read_csv(file_csv)"
   ]
  },
  {
   "cell_type": "code",
   "execution_count": 3,
   "metadata": {},
   "outputs": [
    {
     "data": {
      "text/html": [
       "<div>\n",
       "<style scoped>\n",
       "    .dataframe tbody tr th:only-of-type {\n",
       "        vertical-align: middle;\n",
       "    }\n",
       "\n",
       "    .dataframe tbody tr th {\n",
       "        vertical-align: top;\n",
       "    }\n",
       "\n",
       "    .dataframe thead th {\n",
       "        text-align: right;\n",
       "    }\n",
       "</style>\n",
       "<table border=\"1\" class=\"dataframe\">\n",
       "  <thead>\n",
       "    <tr style=\"text-align: right;\">\n",
       "      <th></th>\n",
       "      <th>five_percentage</th>\n",
       "      <th>price</th>\n",
       "    </tr>\n",
       "    <tr>\n",
       "      <th>origin_country</th>\n",
       "      <th></th>\n",
       "      <th></th>\n",
       "    </tr>\n",
       "  </thead>\n",
       "  <tbody>\n",
       "    <tr>\n",
       "      <th>AT</th>\n",
       "      <td>NaN</td>\n",
       "      <td>7.000000</td>\n",
       "    </tr>\n",
       "    <tr>\n",
       "      <th>CN</th>\n",
       "      <td>48.502862</td>\n",
       "      <td>8.341629</td>\n",
       "    </tr>\n",
       "    <tr>\n",
       "      <th>GB</th>\n",
       "      <td>51.209677</td>\n",
       "      <td>9.000000</td>\n",
       "    </tr>\n",
       "    <tr>\n",
       "      <th>SG</th>\n",
       "      <td>42.180365</td>\n",
       "      <td>3.380000</td>\n",
       "    </tr>\n",
       "    <tr>\n",
       "      <th>US</th>\n",
       "      <td>49.575954</td>\n",
       "      <td>9.397097</td>\n",
       "    </tr>\n",
       "    <tr>\n",
       "      <th>VE</th>\n",
       "      <td>47.619048</td>\n",
       "      <td>8.298000</td>\n",
       "    </tr>\n",
       "  </tbody>\n",
       "</table>\n",
       "</div>"
      ],
      "text/plain": [
       "                five_percentage     price\n",
       "origin_country                           \n",
       "AT                          NaN  7.000000\n",
       "CN                    48.502862  8.341629\n",
       "GB                    51.209677  9.000000\n",
       "SG                    42.180365  3.380000\n",
       "US                    49.575954  9.397097\n",
       "VE                    47.619048  8.298000"
      ]
     },
     "execution_count": 3,
     "metadata": {},
     "output_type": "execute_result"
    }
   ],
   "source": [
    "avg_price = None\n",
    "five_percentage = None\n",
    "result = None\n",
    "\n",
    "if 'origin_country' in data:\n",
    "    grouped = data.groupby(['origin_country'])\n",
    "    avg_price = grouped['price'].mean()\n",
    "    \n",
    "    if 'rating_five_count' and 'rating_count' in data:\n",
    "        grouped_five_percentage = (grouped['rating_five_count'].sum() / grouped['rating_count'].sum()) * 100\n",
    "\n",
    "result = pd.DataFrame({'price': data.groupby('origin_country')['price'].mean(),\n",
    "                           'five_percentage': grouped_five_percentage})\n",
    "        \n",
    "result\n",
    "    "
   ]
  }
 ],
 "metadata": {
  "kernelspec": {
   "display_name": "Python 3",
   "language": "python",
   "name": "python3"
  },
  "language_info": {
   "codemirror_mode": {
    "name": "ipython",
    "version": 3
   },
   "file_extension": ".py",
   "mimetype": "text/x-python",
   "name": "python",
   "nbconvert_exporter": "python",
   "pygments_lexer": "ipython3",
   "version": "3.6.4"
  }
 },
 "nbformat": 4,
 "nbformat_minor": 2
}
